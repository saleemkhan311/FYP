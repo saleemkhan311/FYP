{
 "cells": [
  {
   "cell_type": "code",
   "execution_count": 3,
   "metadata": {},
   "outputs": [
    {
     "name": "stdout",
     "output_type": "stream",
     "text": [
      "Package                       Version\n",
      "----------------------------- --------------------\n",
      "absl-py                       2.0.0\n",
      "aiofiles                      23.2.1\n",
      "alabaster                     0.7.12\n",
      "altair                        5.2.0\n",
      "anaconda-client               1.11.1\n",
      "anaconda-navigator            2.4.0\n",
      "anaconda-project              0.11.1\n",
      "annotated-types               0.6.0\n",
      "anyio                         3.7.1\n",
      "appdirs                       1.4.4\n",
      "argon2-cffi                   21.3.0\n",
      "argon2-cffi-bindings          21.2.0\n",
      "arrow                         1.2.3\n",
      "astroid                       2.14.2\n",
      "astropy                       5.1\n",
      "asttokens                     2.0.5\n",
      "astunparse                    1.6.3\n",
      "atomicwrites                  1.4.0\n",
      "attrs                         22.1.0\n",
      "Automat                       20.2.0\n",
      "autopep8                      1.6.0\n",
      "Babel                         2.11.0\n",
      "backcall                      0.2.0\n",
      "backports.functools-lru-cache 1.6.4\n",
      "backports.tempfile            1.0\n",
      "backports.weakref             1.0.post1\n",
      "bcrypt                        3.2.0\n",
      "beautifulsoup4                4.11.1\n",
      "binaryornot                   0.4.4\n",
      "black                         22.6.0\n",
      "bleach                        4.1.0\n",
      "blinker                       1.7.0\n",
      "bokeh                         2.4.3\n",
      "Bottleneck                    1.3.5\n",
      "brotlipy                      0.7.0\n",
      "cachetools                    5.3.2\n",
      "certifi                       2022.12.7\n",
      "cffi                          1.15.1\n",
      "chardet                       4.0.0\n",
      "charset-normalizer            2.0.4\n",
      "click                         8.0.4\n",
      "cloudpickle                   2.0.0\n",
      "clyent                        1.2.2\n",
      "colorama                      0.4.6\n",
      "colorcet                      3.0.1\n",
      "comm                          0.1.2\n",
      "conda                         23.1.0\n",
      "conda-build                   3.23.3\n",
      "conda-content-trust           0.1.3\n",
      "conda-pack                    0.6.0\n",
      "conda-package-handling        2.0.2\n",
      "conda_package_streaming       0.7.0\n",
      "conda-repo-cli                1.0.27\n",
      "conda-token                   0.4.0\n",
      "conda-verify                  3.4.2\n",
      "constantly                    15.1.0\n",
      "contourpy                     1.0.5\n",
      "cookiecutter                  1.7.3\n",
      "cryptography                  39.0.1\n",
      "cssselect                     1.1.0\n",
      "cycler                        0.11.0\n",
      "cytoolz                       0.12.0\n",
      "daal4py                       2023.0.2\n",
      "dask                          2022.7.0\n",
      "datashader                    0.14.4\n",
      "datashape                     0.5.4\n",
      "debugpy                       1.5.1\n",
      "decorator                     5.1.1\n",
      "defusedxml                    0.7.1\n",
      "diff-match-patch              20200713\n",
      "dill                          0.3.6\n",
      "distributed                   2022.7.0\n",
      "dm-tree                       0.1.8\n",
      "docstring-to-markdown         0.11\n",
      "docutils                      0.18.1\n",
      "entrypoints                   0.4\n",
      "et-xmlfile                    1.1.0\n",
      "exceptiongroup                1.2.0\n",
      "executing                     0.8.3\n",
      "fastapi                       0.104.1\n",
      "fastjsonschema                2.16.2\n",
      "ffmpy                         0.3.1\n",
      "filelock                      3.9.0\n",
      "flake8                        6.0.0\n",
      "Flask                         2.2.2\n",
      "Flask-Cors                    4.0.0\n",
      "flatbuffers                   23.5.26\n",
      "flit_core                     3.6.0\n",
      "fonttools                     4.25.0\n",
      "fsspec                        2023.10.0\n",
      "future                        0.18.3\n",
      "gast                          0.5.4\n",
      "gensim                        4.3.0\n",
      "gitdb                         4.0.11\n",
      "GitPython                     3.1.40\n",
      "glob2                         0.7\n",
      "google-auth                   2.23.4\n",
      "google-auth-oauthlib          1.1.0\n",
      "google-pasta                  0.2.0\n",
      "gradio                        4.7.1\n",
      "gradio_client                 0.7.0\n",
      "greenlet                      2.0.1\n",
      "grpcio                        1.59.3\n",
      "h11                           0.14.0\n",
      "h5py                          3.10.0\n",
      "HeapDict                      1.0.1\n",
      "holoviews                     1.15.4\n",
      "httpcore                      1.0.2\n",
      "httpx                         0.25.2\n",
      "huggingface-hub               0.19.4\n",
      "hvplot                        0.8.2\n",
      "hyperlink                     21.0.0\n",
      "idna                          3.4\n",
      "imagecodecs                   2021.8.26\n",
      "imageio                       2.26.0\n",
      "imagesize                     1.4.1\n",
      "imbalanced-learn              0.10.1\n",
      "importlib-metadata            4.11.3\n",
      "importlib-resources           6.1.1\n",
      "incremental                   21.3.0\n",
      "inflection                    0.5.1\n",
      "iniconfig                     1.1.1\n",
      "intake                        0.6.7\n",
      "intervaltree                  3.1.0\n",
      "ipykernel                     6.19.2\n",
      "ipython                       8.10.0\n",
      "ipython-genutils              0.2.0\n",
      "ipywidgets                    7.6.5\n",
      "isort                         5.9.3\n",
      "itemadapter                   0.3.0\n",
      "itemloaders                   1.0.4\n",
      "itsdangerous                  2.0.1\n",
      "jedi                          0.18.1\n",
      "jellyfish                     0.9.0\n",
      "Jinja2                        3.1.2\n",
      "jinja2-time                   0.2.0\n",
      "jmespath                      0.10.0\n",
      "joblib                        1.1.1\n",
      "json5                         0.9.6\n",
      "jsonschema                    4.17.3\n",
      "jupyter                       1.0.0\n",
      "jupyter_client                7.3.4\n",
      "jupyter-console               6.6.2\n",
      "jupyter_core                  5.2.0\n",
      "jupyter-server                1.23.4\n",
      "jupyterlab                    3.5.3\n",
      "jupyterlab-pygments           0.1.2\n",
      "jupyterlab_server             2.19.0\n",
      "jupyterlab-widgets            1.0.0\n",
      "keras                         2.15.0\n",
      "keras-nightly                 3.0.2.dev2023122103\n",
      "keyring                       23.4.0\n",
      "Kivy                          2.2.1\n",
      "kivy-deps.angle               0.3.3\n",
      "kivy-deps.glew                0.3.1\n",
      "kivy-deps.sdl2                0.6.0\n",
      "Kivy-Garden                   0.1.5\n",
      "kiwisolver                    1.4.4\n",
      "lazy-object-proxy             1.6.0\n",
      "libarchive-c                  2.9\n",
      "libclang                      16.0.6\n",
      "llvmlite                      0.39.1\n",
      "locket                        1.0.0\n",
      "lxml                          4.9.1\n",
      "lz4                           3.1.3\n",
      "Markdown                      3.4.1\n",
      "markdown-it-py                3.0.0\n",
      "MarkupSafe                    2.1.1\n",
      "matplotlib                    3.7.0\n",
      "matplotlib-inline             0.1.6\n",
      "mccabe                        0.7.0\n",
      "mdurl                         0.1.2\n",
      "menuinst                      1.4.19\n",
      "mistune                       0.8.4\n",
      "mkl-fft                       1.3.1\n",
      "mkl-random                    1.2.2\n",
      "mkl-service                   2.4.0\n",
      "ml-dtypes                     0.2.0\n",
      "mock                          4.0.3\n",
      "mpmath                        1.2.1\n",
      "msgpack                       1.0.3\n",
      "multipledispatch              0.6.0\n",
      "munkres                       1.1.4\n",
      "mypy-extensions               0.4.3\n",
      "namex                         0.0.7\n",
      "navigator-updater             0.3.0\n",
      "nbclassic                     0.5.2\n",
      "nbclient                      0.5.13\n",
      "nbconvert                     6.5.4\n",
      "nbformat                      5.7.0\n",
      "nest-asyncio                  1.5.6\n",
      "networkx                      2.8.4\n",
      "nltk                          3.7\n",
      "notebook                      6.5.2\n",
      "notebook_shim                 0.2.2\n",
      "numba                         0.56.4\n",
      "numexpr                       2.8.4\n",
      "numpy                         1.23.5\n",
      "numpydoc                      1.5.0\n",
      "oauthlib                      3.2.2\n",
      "openpyxl                      3.0.10\n",
      "opt-einsum                    3.3.0\n",
      "orjson                        3.9.10\n",
      "packaging                     22.0\n",
      "pandas                        1.5.3\n",
      "pandocfilters                 1.5.0\n",
      "panel                         0.14.3\n",
      "param                         1.12.3\n",
      "paramiko                      2.8.1\n",
      "parsel                        1.6.0\n",
      "parso                         0.8.3\n",
      "partd                         1.2.0\n",
      "pathlib                       1.0.1\n",
      "pathspec                      0.10.3\n",
      "patsy                         0.5.3\n",
      "pep8                          1.7.1\n",
      "pexpect                       4.8.0\n",
      "pickleshare                   0.7.5\n",
      "Pillow                        9.4.0\n",
      "pip                           22.3.1\n",
      "pkginfo                       1.8.3\n",
      "platformdirs                  2.5.2\n",
      "plotly                        5.9.0\n",
      "pluggy                        1.0.0\n",
      "ply                           3.11\n",
      "pooch                         1.4.0\n",
      "poyo                          0.5.0\n",
      "prometheus-client             0.14.1\n",
      "prompt-toolkit                3.0.36\n",
      "Protego                       0.1.16\n",
      "protobuf                      4.23.4\n",
      "psutil                        5.9.0\n",
      "ptyprocess                    0.7.0\n",
      "pure-eval                     0.2.2\n",
      "py                            1.11.0\n",
      "pyarrow                       14.0.1\n",
      "pyasn1                        0.4.8\n",
      "pyasn1-modules                0.2.8\n",
      "pycodestyle                   2.10.0\n",
      "pycosat                       0.6.4\n",
      "pycparser                     2.21\n",
      "pyct                          0.5.0\n",
      "pycurl                        7.45.1\n",
      "pydantic                      2.5.2\n",
      "pydantic_core                 2.14.5\n",
      "pydeck                        0.8.1b0\n",
      "PyDispatcher                  2.0.5\n",
      "pydocstyle                    6.3.0\n",
      "pydub                         0.25.1\n",
      "pyerfa                        2.0.0\n",
      "pyflakes                      3.0.1\n",
      "Pygments                      2.17.2\n",
      "PyHamcrest                    2.0.2\n",
      "PyJWT                         2.4.0\n",
      "pylint                        2.16.2\n",
      "pylint-venv                   2.3.0\n",
      "pyls-spyder                   0.4.0\n",
      "PyNaCl                        1.5.0\n",
      "pyodbc                        4.0.34\n",
      "pyOpenSSL                     23.0.0\n",
      "pyparsing                     3.0.9\n",
      "pypiwin32                     223\n",
      "PyQt5                         5.15.7\n",
      "PyQt5-sip                     12.11.0\n",
      "PyQtWebEngine                 5.15.4\n",
      "pyrsistent                    0.18.0\n",
      "PySocks                       1.7.1\n",
      "pytest                        7.1.2\n",
      "python-dateutil               2.8.2\n",
      "python-lsp-black              1.2.1\n",
      "python-lsp-jsonrpc            1.0.0\n",
      "python-lsp-server             1.7.1\n",
      "python-multipart              0.0.6\n",
      "python-slugify                5.0.2\n",
      "python-snappy                 0.6.1\n",
      "pytoolconfig                  1.2.5\n",
      "pytz                          2022.7\n",
      "pyviz-comms                   2.0.2\n",
      "PyWavelets                    1.4.1\n",
      "pywin32                       305.1\n",
      "pywin32-ctypes                0.2.0\n",
      "pywinpty                      2.0.10\n",
      "PyYAML                        6.0\n",
      "pyzmq                         23.2.0\n",
      "QDarkStyle                    3.0.2\n",
      "qstylizer                     0.2.2\n",
      "QtAwesome                     1.2.2\n",
      "qtconsole                     5.4.0\n",
      "QtPy                          2.2.0\n",
      "queuelib                      1.5.0\n",
      "regex                         2022.7.9\n",
      "requests                      2.28.1\n",
      "requests-file                 1.5.1\n",
      "requests-oauthlib             1.3.1\n",
      "rich                          13.7.0\n",
      "rope                          1.7.0\n",
      "rsa                           4.9\n",
      "Rtree                         1.0.1\n",
      "ruamel.yaml                   0.17.21\n",
      "ruamel.yaml.clib              0.2.6\n",
      "ruamel-yaml-conda             0.17.21\n",
      "scikit-image                  0.19.3\n",
      "scikit-learn                  1.2.1\n",
      "scikit-learn-intelex          20230228.214818\n",
      "scipy                         1.10.0\n",
      "Scrapy                        2.8.0\n",
      "seaborn                       0.12.2\n",
      "semantic-version              2.10.0\n",
      "Send2Trash                    1.8.0\n",
      "service-identity              18.1.0\n",
      "setuptools                    65.6.3\n",
      "shellingham                   1.5.4\n",
      "sip                           6.6.2\n",
      "six                           1.16.0\n",
      "smart-open                    5.2.1\n",
      "smmap                         5.0.1\n",
      "sniffio                       1.2.0\n",
      "snowballstemmer               2.2.0\n",
      "sortedcontainers              2.4.0\n",
      "soupsieve                     2.3.2.post1\n",
      "Sphinx                        5.0.2\n",
      "sphinxcontrib-applehelp       1.0.2\n",
      "sphinxcontrib-devhelp         1.0.2\n",
      "sphinxcontrib-htmlhelp        2.0.0\n",
      "sphinxcontrib-jsmath          1.0.1\n",
      "sphinxcontrib-qthelp          1.0.3\n",
      "sphinxcontrib-serializinghtml 1.1.5\n",
      "spyder                        5.4.1\n",
      "spyder-kernels                2.4.1\n",
      "SQLAlchemy                    1.4.39\n",
      "stack-data                    0.2.0\n",
      "starlette                     0.27.0\n",
      "statsmodels                   0.13.5\n",
      "streamlit                     1.29.0\n",
      "sympy                         1.11.1\n",
      "tables                        3.7.0\n",
      "tabulate                      0.8.10\n",
      "tb-nightly                    2.16.0a20231217\n",
      "TBB                           0.2\n",
      "tblib                         1.7.0\n",
      "tenacity                      8.2.3\n",
      "tensorboard                   2.15.1\n",
      "tensorboard-data-server       0.7.2\n",
      "tensorflow                    2.15.0\n",
      "tensorflow-estimator          2.15.0\n",
      "tensorflow-intel              2.15.0\n",
      "tensorflow-io-gcs-filesystem  0.31.0\n",
      "termcolor                     2.3.0\n",
      "terminado                     0.17.1\n",
      "text-unidecode                1.3\n",
      "textdistance                  4.2.1\n",
      "tf-estimator-nightly          2.14.0.dev2023080308\n",
      "tf-keras-nightly              2.16.0.dev2023122010\n",
      "tf-nightly                    2.16.0.dev20231220\n",
      "tf_nightly_intel              2.16.0.dev20231220\n",
      "threadpoolctl                 2.2.0\n",
      "three-merge                   0.1.1\n",
      "tifffile                      2021.7.2\n",
      "tinycss2                      1.2.1\n",
      "tldextract                    3.2.0\n",
      "tokenizers                    0.11.4\n",
      "toml                          0.10.2\n",
      "tomli                         2.0.1\n",
      "tomlkit                       0.12.0\n",
      "toolz                         0.12.0\n",
      "torch                         1.12.1\n",
      "tornado                       6.1\n",
      "tqdm                          4.64.1\n",
      "traitlets                     5.7.1\n",
      "transformers                  4.24.0\n",
      "Twisted                       22.2.0\n",
      "twisted-iocpsupport           1.0.2\n",
      "typer                         0.9.0\n",
      "typing_extensions             4.8.0\n",
      "tzdata                        2023.3\n",
      "tzlocal                       5.2\n",
      "ujson                         5.4.0\n",
      "Unidecode                     1.2.0\n",
      "urllib3                       1.26.14\n",
      "uvicorn                       0.24.0.post1\n",
      "validators                    0.22.0\n",
      "w3lib                         1.21.0\n",
      "watchdog                      2.1.6\n",
      "wcwidth                       0.2.5\n",
      "webencodings                  0.5.1\n",
      "websocket-client              0.58.0\n",
      "websockets                    11.0.3\n",
      "Werkzeug                      2.2.2\n",
      "whatthepatch                  1.0.2\n",
      "wheel                         0.38.4\n",
      "widgetsnbextension            3.5.2\n",
      "win-inet-pton                 1.1.0\n",
      "wincertstore                  0.2\n",
      "wrapt                         1.14.1\n",
      "xarray                        2022.11.0\n",
      "xlwings                       0.29.1\n",
      "yapf                          0.31.0\n",
      "zict                          2.1.0\n",
      "zipp                          3.11.0\n",
      "zope.interface                5.4.0\n",
      "zstandard                     0.19.0\n"
     ]
    }
   ],
   "source": [
    "!pip list"
   ]
  },
  {
   "cell_type": "code",
   "execution_count": 8,
   "metadata": {
    "id": "Onf8XEcJYBCm"
   },
   "outputs": [
    {
     "ename": "ModuleNotFoundError",
     "evalue": "No module named 'tensorflow.python.distribute.load_context'",
     "output_type": "error",
     "traceback": [
      "\u001b[1;31m---------------------------------------------------------------------------\u001b[0m",
      "\u001b[1;31mModuleNotFoundError\u001b[0m                       Traceback (most recent call last)",
      "Cell \u001b[1;32mIn[8], line 2\u001b[0m\n\u001b[0;32m      1\u001b[0m \u001b[38;5;28;01mimport\u001b[39;00m \u001b[38;5;21;01mpandas\u001b[39;00m \u001b[38;5;28;01mas\u001b[39;00m \u001b[38;5;21;01mpd\u001b[39;00m\n\u001b[1;32m----> 2\u001b[0m \u001b[38;5;28;01mimport\u001b[39;00m \u001b[38;5;21;01mtensorflow\u001b[39;00m \u001b[38;5;28;01mas\u001b[39;00m \u001b[38;5;21;01mtf\u001b[39;00m\n\u001b[0;32m      3\u001b[0m \u001b[38;5;66;03m#tf.losses.sparse_softmax_cross_entropy\u001b[39;00m\n\u001b[0;32m      4\u001b[0m \u001b[38;5;28;01mfrom\u001b[39;00m \u001b[38;5;21;01mtensorflow\u001b[39;00m \u001b[38;5;28;01mimport\u001b[39;00m keras\n",
      "File \u001b[1;32m~\\AppData\\Roaming\\Python\\Python310\\site-packages\\tensorflow\\__init__.py:47\u001b[0m\n\u001b[0;32m     44\u001b[0m \u001b[38;5;28;01mfrom\u001b[39;00m \u001b[38;5;21;01mtensorflow\u001b[39;00m\u001b[38;5;21;01m.\u001b[39;00m\u001b[38;5;21;01mpython\u001b[39;00m \u001b[38;5;28;01mimport\u001b[39;00m tf2 \u001b[38;5;28;01mas\u001b[39;00m _tf2\n\u001b[0;32m     45\u001b[0m _tf2\u001b[38;5;241m.\u001b[39menable()\n\u001b[1;32m---> 47\u001b[0m \u001b[38;5;28;01mfrom\u001b[39;00m \u001b[38;5;21;01mtensorflow\u001b[39;00m\u001b[38;5;21;01m.\u001b[39;00m\u001b[38;5;21;01m_api\u001b[39;00m\u001b[38;5;21;01m.\u001b[39;00m\u001b[38;5;21;01mv2\u001b[39;00m \u001b[38;5;28;01mimport\u001b[39;00m __internal__\n\u001b[0;32m     48\u001b[0m \u001b[38;5;28;01mfrom\u001b[39;00m \u001b[38;5;21;01mtensorflow\u001b[39;00m\u001b[38;5;21;01m.\u001b[39;00m\u001b[38;5;21;01m_api\u001b[39;00m\u001b[38;5;21;01m.\u001b[39;00m\u001b[38;5;21;01mv2\u001b[39;00m \u001b[38;5;28;01mimport\u001b[39;00m __operators__\n\u001b[0;32m     49\u001b[0m \u001b[38;5;28;01mfrom\u001b[39;00m \u001b[38;5;21;01mtensorflow\u001b[39;00m\u001b[38;5;21;01m.\u001b[39;00m\u001b[38;5;21;01m_api\u001b[39;00m\u001b[38;5;21;01m.\u001b[39;00m\u001b[38;5;21;01mv2\u001b[39;00m \u001b[38;5;28;01mimport\u001b[39;00m audio\n",
      "File \u001b[1;32m~\\AppData\\Roaming\\Python\\Python310\\site-packages\\tensorflow\\_api\\v2\\__internal__\\__init__.py:27\u001b[0m\n\u001b[0;32m     25\u001b[0m \u001b[38;5;28;01mfrom\u001b[39;00m \u001b[38;5;21;01mtensorflow\u001b[39;00m\u001b[38;5;21;01m.\u001b[39;00m\u001b[38;5;21;01m_api\u001b[39;00m\u001b[38;5;21;01m.\u001b[39;00m\u001b[38;5;21;01mv2\u001b[39;00m\u001b[38;5;21;01m.\u001b[39;00m\u001b[38;5;21;01m__internal__\u001b[39;00m \u001b[38;5;28;01mimport\u001b[39;00m train\n\u001b[0;32m     26\u001b[0m \u001b[38;5;28;01mfrom\u001b[39;00m \u001b[38;5;21;01mtensorflow\u001b[39;00m\u001b[38;5;21;01m.\u001b[39;00m\u001b[38;5;21;01m_api\u001b[39;00m\u001b[38;5;21;01m.\u001b[39;00m\u001b[38;5;21;01mv2\u001b[39;00m\u001b[38;5;21;01m.\u001b[39;00m\u001b[38;5;21;01m__internal__\u001b[39;00m \u001b[38;5;28;01mimport\u001b[39;00m types\n\u001b[1;32m---> 27\u001b[0m \u001b[38;5;28;01mfrom\u001b[39;00m \u001b[38;5;21;01mtensorflow\u001b[39;00m\u001b[38;5;21;01m.\u001b[39;00m\u001b[38;5;21;01mpython\u001b[39;00m\u001b[38;5;21;01m.\u001b[39;00m\u001b[38;5;21;01mdistribute\u001b[39;00m\u001b[38;5;21;01m.\u001b[39;00m\u001b[38;5;21;01mload_context\u001b[39;00m \u001b[38;5;28;01mimport\u001b[39;00m load_context \u001b[38;5;66;03m# line: 49\u001b[39;00m\n\u001b[0;32m     28\u001b[0m \u001b[38;5;28;01mfrom\u001b[39;00m \u001b[38;5;21;01mtensorflow\u001b[39;00m\u001b[38;5;21;01m.\u001b[39;00m\u001b[38;5;21;01mpython\u001b[39;00m\u001b[38;5;21;01m.\u001b[39;00m\u001b[38;5;21;01meager\u001b[39;00m\u001b[38;5;21;01m.\u001b[39;00m\u001b[38;5;21;01mbackprop\u001b[39;00m \u001b[38;5;28;01mimport\u001b[39;00m record_gradient \u001b[38;5;66;03m# line: 160\u001b[39;00m\n\u001b[0;32m     29\u001b[0m \u001b[38;5;28;01mfrom\u001b[39;00m \u001b[38;5;21;01mtensorflow\u001b[39;00m\u001b[38;5;21;01m.\u001b[39;00m\u001b[38;5;21;01mpython\u001b[39;00m\u001b[38;5;21;01m.\u001b[39;00m\u001b[38;5;21;01meager\u001b[39;00m\u001b[38;5;21;01m.\u001b[39;00m\u001b[38;5;21;01mcontext\u001b[39;00m \u001b[38;5;28;01mimport\u001b[39;00m is_tfrt_enabled \u001b[38;5;66;03m# line: 124\u001b[39;00m\n",
      "\u001b[1;31mModuleNotFoundError\u001b[0m: No module named 'tensorflow.python.distribute.load_context'"
     ]
    }
   ],
   "source": [
    "import pandas as pd\n",
    "import tensorflow as tf\n",
    "#tf.losses.sparse_softmax_cross_entropy\n",
    "from tensorflow import keras\n",
    "#import tf.keras\n",
    "import numpy as np\n",
    "import string\n",
    "from string import digits\n",
    "import matplotlib.pyplot as plt\n",
    "%matplotlib inline\n",
    "import re\n",
    "from sklearn.utils import shuffle\n",
    "from sklearn.model_selection import train_test_split\n",
    "from keras.layers import Input, LSTM, Embedding, Dense\n",
    "from keras.models import Model"
   ]
  },
  {
   "cell_type": "code",
   "execution_count": 24,
   "metadata": {
    "id": "jYlZAgk4Y5oA"
   },
   "outputs": [],
   "source": [
    "lines1=pd.read_table('English.csv', names=['English'])\n",
    "lines2=pd.read_table('Brahui.csv', names=['Brahui'])"
   ]
  },
  {
   "cell_type": "code",
   "execution_count": 25,
   "metadata": {
    "id": "ZZOc8_f13515"
   },
   "outputs": [],
   "source": [
    "lines1['c'] = np.arange(len(lines1))\n",
    "lines2['c'] = np.arange(len(lines2))"
   ]
  },
  {
   "cell_type": "code",
   "execution_count": 26,
   "metadata": {
    "id": "wFHVdqpIaZmm"
   },
   "outputs": [],
   "source": [
    "lines = pd.merge(lines1, lines2, on='c', how='outer', suffixes=('en', 'bhr'))"
   ]
  },
  {
   "cell_type": "code",
   "execution_count": 27,
   "metadata": {
    "id": "ORGO_-msMDPC"
   },
   "outputs": [],
   "source": [
    "del lines['c']"
   ]
  },
  {
   "cell_type": "code",
   "execution_count": 28,
   "metadata": {
    "colab": {
     "base_uri": "https://localhost:8080/",
     "height": 206
    },
    "id": "RXHUkU4PEUJE",
    "outputId": "25350138-9ea1-4293-98ff-e264566013e7",
    "scrolled": true
   },
   "outputs": [
    {
     "data": {
      "text/html": [
       "<div>\n",
       "<style scoped>\n",
       "    .dataframe tbody tr th:only-of-type {\n",
       "        vertical-align: middle;\n",
       "    }\n",
       "\n",
       "    .dataframe tbody tr th {\n",
       "        vertical-align: top;\n",
       "    }\n",
       "\n",
       "    .dataframe thead th {\n",
       "        text-align: right;\n",
       "    }\n",
       "</style>\n",
       "<table border=\"1\" class=\"dataframe\">\n",
       "  <thead>\n",
       "    <tr style=\"text-align: right;\">\n",
       "      <th></th>\n",
       "      <th>English</th>\n",
       "      <th>Brahui</th>\n",
       "    </tr>\n",
       "  </thead>\n",
       "  <tbody>\n",
       "    <tr>\n",
       "      <th>0</th>\n",
       "      <td>English</td>\n",
       "      <td>Brahui</td>\n",
       "    </tr>\n",
       "    <tr>\n",
       "      <th>1</th>\n",
       "      <td>I can speak English</td>\n",
       "      <td>مچّٹ باز انگریزی ہیت کننگ کیوَہ</td>\n",
       "    </tr>\n",
       "    <tr>\n",
       "      <th>2</th>\n",
       "      <td>How long you have been waiting</td>\n",
       "      <td>چہ وختان کَن کِن ہو رنگٹی اُس۔</td>\n",
       "    </tr>\n",
       "    <tr>\n",
       "      <th>3</th>\n",
       "      <td>I have given you much trouble</td>\n",
       "      <td>اِی نے با ز زحمت تِسُّٹ</td>\n",
       "    </tr>\n",
       "    <tr>\n",
       "      <th>4</th>\n",
       "      <td>Very sorry to keep you waiting</td>\n",
       "      <td>نے ہُرے اِسکان توریٹ کنے بشخِس</td>\n",
       "    </tr>\n",
       "    <tr>\n",
       "      <th>5</th>\n",
       "      <td>It is nothing</td>\n",
       "      <td>نہ ہچ پرواہ ااَف</td>\n",
       "    </tr>\n",
       "    <tr>\n",
       "      <th>6</th>\n",
       "      <td>You have been very king</td>\n",
       "      <td>کنے آباز مہربا کریس</td>\n",
       "    </tr>\n",
       "    <tr>\n",
       "      <th>7</th>\n",
       "      <td>You have done me a great favor</td>\n",
       "      <td>کنَ تن با جوانی کریس</td>\n",
       "    </tr>\n",
       "    <tr>\n",
       "      <th>8</th>\n",
       "      <td>Thank you for your visit</td>\n",
       "      <td>خننِگ با ز مہر با نی۔</td>\n",
       "    </tr>\n",
       "    <tr>\n",
       "      <th>9</th>\n",
       "      <td>May I introduce you to my friend</td>\n",
       "      <td>تینا دوست پّجا ری ءِنے تُن کرَیفیوہ۔</td>\n",
       "    </tr>\n",
       "    <tr>\n",
       "      <th>10</th>\n",
       "      <td>May Introduce you to my brother</td>\n",
       "      <td>تیِنا عیلم پچّا ریءِ نے تُن کریفیئو</td>\n",
       "    </tr>\n",
       "    <tr>\n",
       "      <th>11</th>\n",
       "      <td>Who is he</td>\n",
       "      <td>دیراِے</td>\n",
       "    </tr>\n",
       "    <tr>\n",
       "      <th>12</th>\n",
       "      <td>What is he to you</td>\n",
       "      <td>اونا اَنت مِریک</td>\n",
       "    </tr>\n",
       "    <tr>\n",
       "      <th>13</th>\n",
       "      <td>He is my cousin</td>\n",
       "      <td>کنا الہَ مل اے</td>\n",
       "    </tr>\n",
       "    <tr>\n",
       "      <th>14</th>\n",
       "      <td>Do you drink anything</td>\n",
       "      <td>گِڑاس کُنیسہ</td>\n",
       "    </tr>\n",
       "    <tr>\n",
       "      <th>15</th>\n",
       "      <td>Would you like to take tea</td>\n",
       "      <td>چا نوش جا کیسَہ</td>\n",
       "    </tr>\n",
       "    <tr>\n",
       "      <th>16</th>\n",
       "      <td>Would you like a cup of coffee</td>\n",
       "      <td>کافی پیالہ اَس کُنوس۔</td>\n",
       "    </tr>\n",
       "    <tr>\n",
       "      <th>17</th>\n",
       "      <td>I should like a cup of tea</td>\n",
       "      <td>چا پیا لہ اَس کُنوٹ</td>\n",
       "    </tr>\n",
       "    <tr>\n",
       "      <th>18</th>\n",
       "      <td>Help yourself</td>\n",
       "      <td>بسم اللہ کُن</td>\n",
       "    </tr>\n",
       "    <tr>\n",
       "      <th>19</th>\n",
       "      <td>Please  help yourself to take tea</td>\n",
       "      <td>خوا جہ چا ئے تینا کُنبو</td>\n",
       "    </tr>\n",
       "    <tr>\n",
       "      <th>20</th>\n",
       "      <td>Do not trouble yourself</td>\n",
       "      <td>شک کَپّہ</td>\n",
       "    </tr>\n",
       "    <tr>\n",
       "      <th>21</th>\n",
       "      <td>Are you hungry</td>\n",
       "      <td>بِنگِن اسُ</td>\n",
       "    </tr>\n",
       "    <tr>\n",
       "      <th>22</th>\n",
       "      <td>I am not hungry</td>\n",
       "      <td>آخہ نینگنُ اَفّٹ</td>\n",
       "    </tr>\n",
       "    <tr>\n",
       "      <th>23</th>\n",
       "      <td>I am very hungry</td>\n",
       "      <td>اِی با بینگنُ اُٹ</td>\n",
       "    </tr>\n",
       "    <tr>\n",
       "      <th>24</th>\n",
       "      <td>What would you like to eat</td>\n",
       "      <td>انت کنُیسَہ</td>\n",
       "    </tr>\n",
       "    <tr>\n",
       "      <th>25</th>\n",
       "      <td>Dinner is ready</td>\n",
       "      <td>اِرغ تیا رے</td>\n",
       "    </tr>\n",
       "    <tr>\n",
       "      <th>26</th>\n",
       "      <td>Are you thirsty</td>\n",
       "      <td>مَلاس اسُ</td>\n",
       "    </tr>\n",
       "    <tr>\n",
       "      <th>27</th>\n",
       "      <td>I should like a glass of cold water</td>\n",
       "      <td>دیر پدینُو گلا سس کنیؤہ</td>\n",
       "    </tr>\n",
       "    <tr>\n",
       "      <th>28</th>\n",
       "      <td>What do you do</td>\n",
       "      <td>انت کا ریم کیسہَ</td>\n",
       "    </tr>\n",
       "    <tr>\n",
       "      <th>29</th>\n",
       "      <td>What is your business</td>\n",
       "      <td>انت کاروبار کیسہَ</td>\n",
       "    </tr>\n",
       "    <tr>\n",
       "      <th>30</th>\n",
       "      <td>What is your father</td>\n",
       "      <td>با وہ انت کاریم</td>\n",
       "    </tr>\n",
       "    <tr>\n",
       "      <th>31</th>\n",
       "      <td>Are you married</td>\n",
       "      <td>برامی اسُ</td>\n",
       "    </tr>\n",
       "    <tr>\n",
       "      <th>32</th>\n",
       "      <td>How many children have you</td>\n",
       "      <td>اَٹ چُنا</td>\n",
       "    </tr>\n",
       "    <tr>\n",
       "      <th>33</th>\n",
       "      <td>What is your hobby</td>\n",
       "      <td>مشخولی انت اے</td>\n",
       "    </tr>\n",
       "    <tr>\n",
       "      <th>34</th>\n",
       "      <td>Can you tell me</td>\n",
       "      <td>کنے پا نِنّگ کیسَہ</td>\n",
       "    </tr>\n",
       "    <tr>\n",
       "      <th>35</th>\n",
       "      <td>Who knocks at the door</td>\n",
       "      <td>دیر در گہءٹکیفِنگٹی اِے</td>\n",
       "    </tr>\n",
       "    <tr>\n",
       "      <th>36</th>\n",
       "      <td>How old are you</td>\n",
       "      <td>عمر اخسّ</td>\n",
       "    </tr>\n",
       "    <tr>\n",
       "      <th>37</th>\n",
       "      <td>I am twenty</td>\n",
       "      <td>کنا اُمر بیسِت سا ل اِے</td>\n",
       "    </tr>\n",
       "    <tr>\n",
       "      <th>38</th>\n",
       "      <td>When you are going out</td>\n",
       "      <td>نمُ پیشن چہ وہ ہنگٹی ارُے</td>\n",
       "    </tr>\n",
       "    <tr>\n",
       "      <th>39</th>\n",
       "      <td>I am ready</td>\n",
       "      <td>اِی تیا اُٹ</td>\n",
       "    </tr>\n",
       "    <tr>\n",
       "      <th>40</th>\n",
       "      <td>Let us go out</td>\n",
       "      <td>پیشن کان</td>\n",
       "    </tr>\n",
       "    <tr>\n",
       "      <th>41</th>\n",
       "      <td>Wait for me</td>\n",
       "      <td>سلہ کَن کِن</td>\n",
       "    </tr>\n",
       "    <tr>\n",
       "      <th>42</th>\n",
       "      <td>What for</td>\n",
       "      <td>اَنتے</td>\n",
       "    </tr>\n",
       "    <tr>\n",
       "      <th>43</th>\n",
       "      <td>I can not wait</td>\n",
       "      <td>اڈکننگ کپّرہ</td>\n",
       "    </tr>\n",
       "    <tr>\n",
       "      <th>44</th>\n",
       "      <td>Please tell me</td>\n",
       "      <td>خو اجہ کنے پا</td>\n",
       "    </tr>\n",
       "    <tr>\n",
       "      <th>45</th>\n",
       "      <td>How is the weather</td>\n",
       "      <td>مو سم اَمرے اِے</td>\n",
       "    </tr>\n",
       "    <tr>\n",
       "      <th>46</th>\n",
       "      <td>It is very pleasant</td>\n",
       "      <td>باز جو اِے</td>\n",
       "    </tr>\n",
       "    <tr>\n",
       "      <th>47</th>\n",
       "      <td>It is very bad weather</td>\n",
       "      <td>مو سم با خراب اِے</td>\n",
       "    </tr>\n",
       "    <tr>\n",
       "      <th>48</th>\n",
       "      <td>It is hot today</td>\n",
       "      <td>اینو با سُنی اے</td>\n",
       "    </tr>\n",
       "    <tr>\n",
       "      <th>49</th>\n",
       "      <td>It is cold today</td>\n",
       "      <td>اینو پُدینی اے</td>\n",
       "    </tr>\n",
       "  </tbody>\n",
       "</table>\n",
       "</div>"
      ],
      "text/plain": [
       "                                 English                                Brahui\n",
       "0                                English                                Brahui\n",
       "1                    I can speak English       مچّٹ باز انگریزی ہیت کننگ کیوَہ\n",
       "2        How long you have been waiting         چہ وختان کَن کِن ہو رنگٹی اُس۔\n",
       "3         I have given you much trouble                اِی نے با ز زحمت تِسُّٹ\n",
       "4        Very sorry to keep you waiting         نے ہُرے اِسکان توریٹ کنے بشخِس\n",
       "5                          It is nothing                      نہ ہچ پرواہ ااَف\n",
       "6               You have been very king                    کنے آباز مہربا کریس\n",
       "7        You have done me a great favor                   کنَ تن با جوانی کریس\n",
       "8               Thank you for your visit                 خننِگ با ز مہر با نی۔\n",
       "9      May I introduce you to my friend   تینا دوست پّجا ری ءِنے تُن کرَیفیوہ۔\n",
       "10      May Introduce you to my brother    تیِنا عیلم پچّا ریءِ نے تُن کریفیئو\n",
       "11                            Who is he                                 دیراِے\n",
       "12                    What is he to you                        اونا اَنت مِریک\n",
       "13                      He is my cousin                         کنا الہَ مل اے\n",
       "14                Do you drink anything                           گِڑاس کُنیسہ\n",
       "15           Would you like to take tea                        چا نوش جا کیسَہ\n",
       "16       Would you like a cup of coffee                  کافی پیالہ اَس کُنوس۔\n",
       "17           I should like a cup of tea                    چا پیا لہ اَس کُنوٹ\n",
       "18                        Help yourself                           بسم اللہ کُن\n",
       "19    Please  help yourself to take tea                خوا جہ چا ئے تینا کُنبو\n",
       "20              Do not trouble yourself                               شک کَپّہ\n",
       "21                       Are you hungry                             بِنگِن اسُ\n",
       "22                      I am not hungry                       آخہ نینگنُ اَفّٹ\n",
       "23                     I am very hungry                      اِی با بینگنُ اُٹ\n",
       "24           What would you like to eat                            انت کنُیسَہ\n",
       "25                      Dinner is ready                            اِرغ تیا رے\n",
       "26                      Are you thirsty                              مَلاس اسُ\n",
       "27  I should like a glass of cold water                دیر پدینُو گلا سس کنیؤہ\n",
       "28                       What do you do                       انت کا ریم کیسہَ\n",
       "29                What is your business                      انت کاروبار کیسہَ\n",
       "30                  What is your father                        با وہ انت کاریم\n",
       "31                      Are you married                              برامی اسُ\n",
       "32           How many children have you                               اَٹ چُنا\n",
       "33                   What is your hobby                          مشخولی انت اے\n",
       "34                      Can you tell me                     کنے پا نِنّگ کیسَہ\n",
       "35               Who knocks at the door                دیر در گہءٹکیفِنگٹی اِے\n",
       "36                      How old are you                               عمر اخسّ\n",
       "37                          I am twenty                کنا اُمر بیسِت سا ل اِے\n",
       "38               When you are going out              نمُ پیشن چہ وہ ہنگٹی ارُے\n",
       "39                           I am ready                            اِی تیا اُٹ\n",
       "40                        Let us go out                               پیشن کان\n",
       "41                          Wait for me                            سلہ کَن کِن\n",
       "42                             What for                                  اَنتے\n",
       "43                       I can not wait                           اڈکننگ کپّرہ\n",
       "44                       Please tell me                          خو اجہ کنے پا\n",
       "45                   How is the weather                        مو سم اَمرے اِے\n",
       "46                  It is very pleasant                             باز جو اِے\n",
       "47               It is very bad weather                      مو سم با خراب اِے\n",
       "48                      It is hot today                        اینو با سُنی اے\n",
       "49                     It is cold today                         اینو پُدینی اے"
      ]
     },
     "execution_count": 28,
     "metadata": {},
     "output_type": "execute_result"
    }
   ],
   "source": [
    "lines.head(50)"
   ]
  },
  {
   "cell_type": "code",
   "execution_count": 29,
   "metadata": {},
   "outputs": [],
   "source": [
    "#Preprocessing Step"
   ]
  },
  {
   "cell_type": "code",
   "execution_count": 30,
   "metadata": {
    "colab": {
     "base_uri": "https://localhost:8080/",
     "height": 363
    },
    "id": "gDONYtOeab4c",
    "outputId": "41ef4763-99d1-4df8-a809-51c799a642ad"
   },
   "outputs": [
    {
     "data": {
      "text/html": [
       "<div>\n",
       "<style scoped>\n",
       "    .dataframe tbody tr th:only-of-type {\n",
       "        vertical-align: middle;\n",
       "    }\n",
       "\n",
       "    .dataframe tbody tr th {\n",
       "        vertical-align: top;\n",
       "    }\n",
       "\n",
       "    .dataframe thead th {\n",
       "        text-align: right;\n",
       "    }\n",
       "</style>\n",
       "<table border=\"1\" class=\"dataframe\">\n",
       "  <thead>\n",
       "    <tr style=\"text-align: right;\">\n",
       "      <th></th>\n",
       "      <th>English</th>\n",
       "      <th>Brahui</th>\n",
       "    </tr>\n",
       "  </thead>\n",
       "  <tbody>\n",
       "    <tr>\n",
       "      <th>5358</th>\n",
       "      <td>i cant listen voice message please text me</td>\n",
       "      <td>START_ ای وائس بنینگ کپرہ مسیج لکھا _END</td>\n",
       "    </tr>\n",
       "    <tr>\n",
       "      <th>3475</th>\n",
       "      <td>coot pocket over coot</td>\n",
       "      <td>START_ کوٹ جیب بلا کوٹ _END</td>\n",
       "    </tr>\n",
       "    <tr>\n",
       "      <th>3367</th>\n",
       "      <td>day before yesterday</td>\n",
       "      <td>START_ ملخدو _END</td>\n",
       "    </tr>\n",
       "    <tr>\n",
       "      <th>5179</th>\n",
       "      <td>rule</td>\n",
       "      <td>START_ حکمرانی _END</td>\n",
       "    </tr>\n",
       "    <tr>\n",
       "      <th>936</th>\n",
       "      <td>i ’ d rather have rice</td>\n",
       "      <td>START_ بِرنج خواوہ _END</td>\n",
       "    </tr>\n",
       "    <tr>\n",
       "      <th>101</th>\n",
       "      <td>i am talking to you from kalat</td>\n",
       "      <td>START_ قلا ت نے تُن ہیت کننگٹی اُٹ _END</td>\n",
       "    </tr>\n",
       "    <tr>\n",
       "      <th>5109</th>\n",
       "      <td>where is</td>\n",
       "      <td>START_ ارا رے کے؟ _END</td>\n",
       "    </tr>\n",
       "    <tr>\n",
       "      <th>1904</th>\n",
       "      <td>succeed</td>\n",
       "      <td>START_ سوبینی _END</td>\n",
       "    </tr>\n",
       "    <tr>\n",
       "      <th>4473</th>\n",
       "      <td>croak of a frog</td>\n",
       "      <td>START_ ٹرہ _END</td>\n",
       "    </tr>\n",
       "    <tr>\n",
       "      <th>2713</th>\n",
       "      <td>i want a front apartment</td>\n",
       "      <td>START_ کنے مون نا نیمغا اراس بکار اے۔ _END</td>\n",
       "    </tr>\n",
       "  </tbody>\n",
       "</table>\n",
       "</div>"
      ],
      "text/plain": [
       "                                         English  \\\n",
       "5358  i cant listen voice message please text me   \n",
       "3475                       coot pocket over coot   \n",
       "3367                        day before yesterday   \n",
       "5179                                        rule   \n",
       "936                       i ’ d rather have rice   \n",
       "101               i am talking to you from kalat   \n",
       "5109                                    where is   \n",
       "1904                                     succeed   \n",
       "4473                             croak of a frog   \n",
       "2713                    i want a front apartment   \n",
       "\n",
       "                                          Brahui  \n",
       "5358    START_ ای وائس بنینگ کپرہ مسیج لکھا _END  \n",
       "3475                 START_ کوٹ جیب بلا کوٹ _END  \n",
       "3367                           START_ ملخدو _END  \n",
       "5179                         START_ حکمرانی _END  \n",
       "936                      START_ بِرنج خواوہ _END  \n",
       "101      START_ قلا ت نے تُن ہیت کننگٹی اُٹ _END  \n",
       "5109                      START_ ارا رے کے؟ _END  \n",
       "1904                          START_ سوبینی _END  \n",
       "4473                             START_ ٹرہ _END  \n",
       "2713  START_ کنے مون نا نیمغا اراس بکار اے۔ _END  "
      ]
     },
     "execution_count": 30,
     "metadata": {},
     "output_type": "execute_result"
    }
   ],
   "source": [
    "# Lowercase all characters\n",
    "lines.English=lines.English.apply(lambda x: x.lower())\n",
    "#lines.Brahui=lines.Brahui.apply(lambda x: x.lower())\n",
    "\n",
    "# Remove quotes\n",
    "lines.English=lines.English.apply(lambda x: re.sub(\"'\", '', x))\n",
    "lines.Brahui=lines.Brahui.apply(lambda x: re.sub(\"'\", '', x))\n",
    "\n",
    "exclude = set(string.punctuation) # Set of all special characters\n",
    "\n",
    "# Remove all the special characters\n",
    "lines.English=lines.English.apply(lambda x: ''.join(ch for ch in x if ch not in exclude))\n",
    "lines.Brahui=lines.Brahui.apply(lambda x: ''.join(ch for ch in x if ch not in exclude))\n",
    "\n",
    "# Remove all numbers from text\n",
    "remove_digits = str.maketrans('', '', digits)\n",
    "lines.English=lines.English.apply(lambda x: x.translate(remove_digits))\n",
    "\n",
    "# Remove extra spaces\n",
    "lines.English=lines.English.apply(lambda x: x.strip())\n",
    "lines.Brahui=lines.Brahui.apply(lambda x: x.strip())\n",
    "lines.English=lines.English.apply(lambda x: re.sub(\" +\", \" \", x))\n",
    "lines.Brahui=lines.Brahui.apply(lambda x: re.sub(\" +\", \" \", x))\n",
    "\n",
    "# Add start and end tokens to target sequences\n",
    "lines.Brahui = lines.Brahui.apply(lambda x : 'START_ '+ x + ' _END')\n",
    "\n",
    "lines.sample(10)"
   ]
  },
  {
   "cell_type": "code",
   "execution_count": 31,
   "metadata": {
    "id": "_hJtEj8bab-d"
   },
   "outputs": [],
   "source": [
    "\n",
    "# Vocabulary of English\n",
    "all_eng_words=set()\n",
    "for English in lines.English:\n",
    "    for word in English.split():\n",
    "        if word not in all_eng_words:\n",
    "            all_eng_words.add(word)\n",
    "\n",
    "# Vocabulary of Bhraui \n",
    "all_Brahui_words=set()\n",
    "for Brahui in lines.Brahui:\n",
    "    for word in Brahui.split():\n",
    "        if word not in all_Brahui_words:\n",
    "            all_Brahui_words.add(word)\n",
    "\n"
   ]
  },
  {
   "cell_type": "code",
   "execution_count": 32,
   "metadata": {
    "colab": {
     "base_uri": "https://localhost:8080/"
    },
    "id": "WqWDH72lacBM",
    "outputId": "ce20d603-cbf7-410d-af68-c9e49ae1ad34"
   },
   "outputs": [
    {
     "name": "stdout",
     "output_type": "stream",
     "text": [
      "Max Source Length: 24\n",
      "Max Target Lenght: 21\n"
     ]
    }
   ],
   "source": [
    "# Max Length of source sequence\n",
    "lenght_list=[]\n",
    "for l in lines.English:\n",
    "    lenght_list.append(len(l.split(' ')))\n",
    "max_length_src = np.max(lenght_list)\n",
    "print('Max Source Length:',max_length_src)\n",
    "\n",
    "# Max Length of target sequence\n",
    "lenght_list=[]\n",
    "for l in lines.Brahui:\n",
    "    lenght_list.append(len(l.split(' ')))\n",
    "max_length_tar = np.max(lenght_list)\n",
    "print('Max Target Lenght:',max_length_tar)\n"
   ]
  },
  {
   "cell_type": "code",
   "execution_count": 33,
   "metadata": {
    "colab": {
     "base_uri": "https://localhost:8080/"
    },
    "id": "ACVsAs6mb8JR",
    "outputId": "2b68a29a-2a3c-40ac-be83-9f784839ecbd"
   },
   "outputs": [
    {
     "data": {
      "text/plain": [
       "(3211, 5239)"
      ]
     },
     "execution_count": 33,
     "metadata": {},
     "output_type": "execute_result"
    }
   ],
   "source": [
    "input_words = sorted(list(all_eng_words))\n",
    "target_words = sorted(list(all_Brahui_words))\n",
    "num_encoder_tokens = len(all_eng_words)+1\n",
    "num_decoder_tokens = len(all_Brahui_words)+1\n",
    "num_encoder_tokens, num_decoder_tokens"
   ]
  },
  {
   "cell_type": "code",
   "execution_count": 34,
   "metadata": {
    "colab": {
     "base_uri": "https://localhost:8080/"
    },
    "id": "9QOZtqsCcIzR",
    "outputId": "4fcb2e6a-73fd-477a-9e21-55d44d350341"
   },
   "outputs": [
    {
     "data": {
      "text/plain": [
       "5240"
      ]
     },
     "execution_count": 34,
     "metadata": {},
     "output_type": "execute_result"
    }
   ],
   "source": [
    "num_decoder_tokens += 1 # For zero padding\n",
    "num_decoder_tokens"
   ]
  },
  {
   "cell_type": "code",
   "execution_count": 35,
   "metadata": {
    "colab": {
     "base_uri": "https://localhost:8080/",
     "height": 363
    },
    "id": "NcswIoyNcMJI",
    "outputId": "8a937943-42ca-4a10-a3cb-856e49bb9c56"
   },
   "outputs": [
    {
     "data": {
      "text/html": [
       "<div>\n",
       "<style scoped>\n",
       "    .dataframe tbody tr th:only-of-type {\n",
       "        vertical-align: middle;\n",
       "    }\n",
       "\n",
       "    .dataframe tbody tr th {\n",
       "        vertical-align: top;\n",
       "    }\n",
       "\n",
       "    .dataframe thead th {\n",
       "        text-align: right;\n",
       "    }\n",
       "</style>\n",
       "<table border=\"1\" class=\"dataframe\">\n",
       "  <thead>\n",
       "    <tr style=\"text-align: right;\">\n",
       "      <th></th>\n",
       "      <th>English</th>\n",
       "      <th>Brahui</th>\n",
       "    </tr>\n",
       "  </thead>\n",
       "  <tbody>\n",
       "    <tr>\n",
       "      <th>1567</th>\n",
       "      <td>bee</td>\n",
       "      <td>START_ شہد ھیل _END</td>\n",
       "    </tr>\n",
       "    <tr>\n",
       "      <th>1550</th>\n",
       "      <td>pigeon</td>\n",
       "      <td>START_ کبوت _END</td>\n",
       "    </tr>\n",
       "    <tr>\n",
       "      <th>4090</th>\n",
       "      <td>hidden</td>\n",
       "      <td>START_ ڑکھوک _END</td>\n",
       "    </tr>\n",
       "    <tr>\n",
       "      <th>1157</th>\n",
       "      <td>i saw nothing till the car came</td>\n",
       "      <td>START_ تا وختِ اِسکان کہ مو ٹؒ بَتؤ۔ ہچ خنتوٹَ...</td>\n",
       "    </tr>\n",
       "    <tr>\n",
       "      <th>1947</th>\n",
       "      <td>field</td>\n",
       "      <td>START_ کِشار _END</td>\n",
       "    </tr>\n",
       "    <tr>\n",
       "      <th>3049</th>\n",
       "      <td>look out get out of the way that pipe is fall</td>\n",
       "      <td>START_ خیال کیس مر کر اے لو لا اے تخنگٹی اے _END</td>\n",
       "    </tr>\n",
       "    <tr>\n",
       "      <th>4473</th>\n",
       "      <td>croak of a frog</td>\n",
       "      <td>START_ ٹرہ _END</td>\n",
       "    </tr>\n",
       "    <tr>\n",
       "      <th>3871</th>\n",
       "      <td>odorous</td>\n",
       "      <td>START_ گند کروک _END</td>\n",
       "    </tr>\n",
       "    <tr>\n",
       "      <th>841</th>\n",
       "      <td>i can not move my elbow</td>\n",
       "      <td>START_ کنا سروش سرینگ کننگ کپک _END</td>\n",
       "    </tr>\n",
       "    <tr>\n",
       "      <th>2403</th>\n",
       "      <td>blacksmith</td>\n",
       "      <td>START_ آہن ساز _END</td>\n",
       "    </tr>\n",
       "    <tr>\n",
       "      <th>1289</th>\n",
       "      <td>on saturday</td>\n",
       "      <td>START_ ہفتہ دے _END</td>\n",
       "    </tr>\n",
       "    <tr>\n",
       "      <th>2408</th>\n",
       "      <td>goldsmith</td>\n",
       "      <td>START_ زرگر _END</td>\n",
       "    </tr>\n",
       "    <tr>\n",
       "      <th>4732</th>\n",
       "      <td>fun</td>\n",
       "      <td>START_ ملنڈ _END</td>\n",
       "    </tr>\n",
       "    <tr>\n",
       "      <th>3769</th>\n",
       "      <td>honour</td>\n",
       "      <td>START_ احترام _END</td>\n",
       "    </tr>\n",
       "    <tr>\n",
       "      <th>2820</th>\n",
       "      <td>he will be back at</td>\n",
       "      <td>START_ او بجہ غا پدی بریک ۔ _END</td>\n",
       "    </tr>\n",
       "    <tr>\n",
       "      <th>3100</th>\n",
       "      <td>knock</td>\n",
       "      <td>START_ ٹکیفبو _END</td>\n",
       "    </tr>\n",
       "    <tr>\n",
       "      <th>1466</th>\n",
       "      <td>vegetables</td>\n",
       "      <td>START_ سوزی _END</td>\n",
       "    </tr>\n",
       "    <tr>\n",
       "      <th>676</th>\n",
       "      <td>i want soap</td>\n",
       "      <td>START_ سابون خواوہ _END</td>\n",
       "    </tr>\n",
       "    <tr>\n",
       "      <th>4254</th>\n",
       "      <td>rashly</td>\n",
       "      <td>START_ تینا مو ن _END</td>\n",
       "    </tr>\n",
       "    <tr>\n",
       "      <th>1342</th>\n",
       "      <td>desert</td>\n",
       "      <td>START_ ریکستان _END</td>\n",
       "    </tr>\n",
       "  </tbody>\n",
       "</table>\n",
       "</div>"
      ],
      "text/plain": [
       "                                            English  \\\n",
       "1567                                            bee   \n",
       "1550                                         pigeon   \n",
       "4090                                         hidden   \n",
       "1157                i saw nothing till the car came   \n",
       "1947                                          field   \n",
       "3049  look out get out of the way that pipe is fall   \n",
       "4473                                croak of a frog   \n",
       "3871                                        odorous   \n",
       "841                         i can not move my elbow   \n",
       "2403                                     blacksmith   \n",
       "1289                                    on saturday   \n",
       "2408                                      goldsmith   \n",
       "4732                                            fun   \n",
       "3769                                         honour   \n",
       "2820                             he will be back at   \n",
       "3100                                          knock   \n",
       "1466                                     vegetables   \n",
       "676                                     i want soap   \n",
       "4254                                         rashly   \n",
       "1342                                         desert   \n",
       "\n",
       "                                                 Brahui  \n",
       "1567                                START_ شہد ھیل _END  \n",
       "1550                                   START_ کبوت _END  \n",
       "4090                                  START_ ڑکھوک _END  \n",
       "1157  START_ تا وختِ اِسکان کہ مو ٹؒ بَتؤ۔ ہچ خنتوٹَ...  \n",
       "1947                                  START_ کِشار _END  \n",
       "3049   START_ خیال کیس مر کر اے لو لا اے تخنگٹی اے _END  \n",
       "4473                                    START_ ٹرہ _END  \n",
       "3871                               START_ گند کروک _END  \n",
       "841                 START_ کنا سروش سرینگ کننگ کپک _END  \n",
       "2403                                START_ آہن ساز _END  \n",
       "1289                                START_ ہفتہ دے _END  \n",
       "2408                                   START_ زرگر _END  \n",
       "4732                                   START_ ملنڈ _END  \n",
       "3769                                 START_ احترام _END  \n",
       "2820                   START_ او بجہ غا پدی بریک ۔ _END  \n",
       "3100                                 START_ ٹکیفبو _END  \n",
       "1466                                   START_ سوزی _END  \n",
       "676                             START_ سابون خواوہ _END  \n",
       "4254                              START_ تینا مو ن _END  \n",
       "1342                                START_ ریکستان _END  "
      ]
     },
     "execution_count": 35,
     "metadata": {},
     "output_type": "execute_result"
    }
   ],
   "source": [
    "input_token_index = dict([(word, i+1) for i, word in enumerate(input_words)])\n",
    "target_token_index = dict([(word, i+1) for i, word in enumerate(target_words)])\n",
    "\n",
    "#np.save('input_token_index.npy', input_token_index)\n",
    "#np.save('target_token_index.npy', target_token_index)\n",
    "\n",
    "reverse_input_char_index = dict((i, word) for word, i in input_token_index.items())\n",
    "reverse_target_char_index = dict((i, word) for word, i in target_token_index.items())\n",
    "\n",
    "lines = shuffle(lines)\n",
    "lines.head(20)"
   ]
  },
  {
   "cell_type": "markdown",
   "metadata": {
    "id": "6I3jdPSgy5Su"
   },
   "source": [
    "**Creating training and test dataset**\n"
   ]
  },
  {
   "cell_type": "code",
   "execution_count": 36,
   "metadata": {
    "colab": {
     "base_uri": "https://localhost:8080/"
    },
    "id": "i5ngV0e8cMGR",
    "outputId": "9a2b4ada-892d-4609-de3a-212569189195"
   },
   "outputs": [
    {
     "data": {
      "text/plain": [
       "((4907,), (546,))"
      ]
     },
     "execution_count": 36,
     "metadata": {},
     "output_type": "execute_result"
    }
   ],
   "source": [
    "# Train - Test Split\n",
    "X, y = lines.English, lines.Brahui\n",
    "X_train, X_test, y_train, y_test = train_test_split(X, y, test_size = 0.1)\n",
    "X_train.shape, X_test.shape\n"
   ]
  },
  {
   "cell_type": "code",
   "execution_count": 37,
   "metadata": {
    "id": "DiFwOxV9cMDg"
   },
   "outputs": [],
   "source": [
    "#Save the train and test dataframes for reproducing the results later, as they are shuffled.\n",
    "\n",
    "X_train.to_pickle('X_train.pkl')\n",
    "X_test.to_pickle('X_test.pkl')\n"
   ]
  },
  {
   "cell_type": "code",
   "execution_count": 38,
   "metadata": {
    "id": "7xcAcM-vcL4o"
   },
   "outputs": [],
   "source": [
    "def generate_batch(X = X_train, y = y_train, batch_size = 64):\n",
    "    ''' Generate a batch of data '''\n",
    "    while True:\n",
    "        for j in range(0, len(X), batch_size):\n",
    "            encoder_input_data = np.zeros((batch_size, max_length_src),dtype='float32')\n",
    "            decoder_input_data = np.zeros((batch_size, max_length_tar),dtype='float32')\n",
    "            decoder_target_data = np.zeros((batch_size, max_length_tar, num_decoder_tokens),dtype='float32')\n",
    "            for i, (input_text, target_text) in enumerate(zip(X[j:j+batch_size], y[j:j+batch_size])):\n",
    "                for t, word in enumerate(input_text.split()):\n",
    "                    encoder_input_data[i, t] = input_token_index[word] # encoder input seq\n",
    "                for t, word in enumerate(target_text.split()):\n",
    "                    if t<len(target_text.split())-1:\n",
    "                        decoder_input_data[i, t] = target_token_index[word] # decoder input seq\n",
    "                    if t>0:\n",
    "                        # decoder target sequence (one hot encoded)\n",
    "                        # does not include the START_ token\n",
    "                        # Offset by one timestep\n",
    "                        decoder_target_data[i, t - 1, target_token_index[word]] = 1.\n",
    "            yield([encoder_input_data, decoder_input_data], decoder_target_data)"
   ]
  },
  {
   "cell_type": "code",
   "execution_count": 39,
   "metadata": {
    "colab": {
     "base_uri": "https://localhost:8080/"
    },
    "id": "yyaJMwiCdMip",
    "outputId": "3f75614d-c4d7-4aec-e5e2-76414ead0ed8"
   },
   "outputs": [
    {
     "name": "stdout",
     "output_type": "stream",
     "text": [
      "76\n",
      "8\n"
     ]
    }
   ],
   "source": [
    "train_samples = len(X_train)\n",
    "val_samples = len(X_test)\n",
    "batch_size = 64\n",
    "epochs = 5\n",
    "latent_dim = 256\n",
    "print(train_samples//batch_size)\n",
    "print(val_samples//batch_size)"
   ]
  },
  {
   "cell_type": "code",
   "execution_count": 40,
   "metadata": {
    "id": "9-y-7GCKc8Aq"
   },
   "outputs": [
    {
     "name": "stdout",
     "output_type": "stream",
     "text": [
      "WARNING:tensorflow:From C:\\Users\\Saleem Khan\\AppData\\Roaming\\Python\\Python310\\site-packages\\keras\\src\\backend.py:1398: The name tf.executing_eagerly_outside_functions is deprecated. Please use tf.compat.v1.executing_eagerly_outside_functions instead.\n",
      "\n"
     ]
    }
   ],
   "source": [
    "# Encoder\n",
    "encoder_inputs = Input(shape=(None,))\n",
    "enc_emb =  Embedding(num_encoder_tokens, latent_dim, mask_zero = True)(encoder_inputs)\n",
    "encoder_lstm = LSTM(latent_dim, return_state=True)\n",
    "encoder_outputs, state_h, state_c = encoder_lstm(enc_emb)\n",
    "# We discard `encoder_outputs` and only keep the states.\n",
    "encoder_states = [state_h, state_c]"
   ]
  },
  {
   "cell_type": "code",
   "execution_count": 41,
   "metadata": {
    "id": "jcHySeMYCOcG"
   },
   "outputs": [],
   "source": [
    "# Set up the decoder, using `encoder_states` as initial state.\n",
    "decoder_inputs = Input(shape=(None,))\n",
    "dec_emb_layer = Embedding(num_decoder_tokens, latent_dim, mask_zero = True)\n",
    "dec_emb = dec_emb_layer(decoder_inputs)\n",
    "# We set up our decoder to return full output sequences,\n",
    "# and to return internal states as well. We don't use the\n",
    "# return states in the training model, but we will use them in inference.\n",
    "decoder_lstm = LSTM(latent_dim, return_sequences=True, return_state=True)\n",
    "decoder_outputs, _, _ = decoder_lstm(dec_emb,initial_state=encoder_states)\n",
    "decoder_dense = Dense(num_decoder_tokens, activation='softmax')\n",
    "decoder_outputs = decoder_dense(decoder_outputs)"
   ]
  },
  {
   "cell_type": "code",
   "execution_count": 42,
   "metadata": {
    "id": "jSlbY-2UCRj1"
   },
   "outputs": [],
   "source": [
    "# Define the model that will turn\n",
    "# `encoder_input_data` & `decoder_input_data` into `decoder_target_data`\n",
    "model = Model([encoder_inputs, decoder_inputs], decoder_outputs)"
   ]
  },
  {
   "cell_type": "code",
   "execution_count": 43,
   "metadata": {
    "id": "4hRLXQCXdH1I"
   },
   "outputs": [
    {
     "name": "stdout",
     "output_type": "stream",
     "text": [
      "WARNING:tensorflow:From C:\\Users\\Saleem Khan\\AppData\\Roaming\\Python\\Python310\\site-packages\\keras\\src\\optimizers\\__init__.py:309: The name tf.train.Optimizer is deprecated. Please use tf.compat.v1.train.Optimizer instead.\n",
      "\n"
     ]
    }
   ],
   "source": [
    "model.compile(optimizer='rmsprop', loss='categorical_crossentropy', metrics=['acc'])"
   ]
  },
  {
   "cell_type": "code",
   "execution_count": 44,
   "metadata": {
    "colab": {
     "base_uri": "https://localhost:8080/"
    },
    "id": "UQHwZGgudTLY",
    "outputId": "41f8e01f-ec21-4469-a7e2-feef2c43e74a"
   },
   "outputs": [
    {
     "name": "stdout",
     "output_type": "stream",
     "text": [
      "Epoch 1/5\n",
      "WARNING:tensorflow:From C:\\Users\\Saleem Khan\\AppData\\Roaming\\Python\\Python310\\site-packages\\keras\\src\\utils\\tf_utils.py:492: The name tf.ragged.RaggedTensorValue is deprecated. Please use tf.compat.v1.ragged.RaggedTensorValue instead.\n",
      "\n",
      "WARNING:tensorflow:From C:\\Users\\Saleem Khan\\AppData\\Roaming\\Python\\Python310\\site-packages\\keras\\src\\engine\\base_layer_utils.py:384: The name tf.executing_eagerly_outside_functions is deprecated. Please use tf.compat.v1.executing_eagerly_outside_functions instead.\n",
      "\n",
      "76/76 [==============================] - 29s 303ms/step - loss: 7.1599 - acc: 0.2286 - val_loss: 6.2974 - val_acc: 0.2381\n",
      "Epoch 2/5\n",
      "76/76 [==============================] - 19s 252ms/step - loss: 6.1326 - acc: 0.2317 - val_loss: 6.0695 - val_acc: 0.2395\n",
      "Epoch 3/5\n",
      "76/76 [==============================] - 19s 251ms/step - loss: 5.9726 - acc: 0.2384 - val_loss: 6.0111 - val_acc: 0.2489\n",
      "Epoch 4/5\n",
      "76/76 [==============================] - 19s 248ms/step - loss: 5.8905 - acc: 0.2433 - val_loss: 5.9714 - val_acc: 0.2563\n",
      "Epoch 5/5\n",
      "76/76 [==============================] - 20s 268ms/step - loss: 5.8323 - acc: 0.2468 - val_loss: 5.9347 - val_acc: 0.2605\n"
     ]
    },
    {
     "data": {
      "text/plain": [
       "<keras.src.callbacks.History at 0x1db2b96bbb0>"
      ]
     },
     "execution_count": 44,
     "metadata": {},
     "output_type": "execute_result"
    }
   ],
   "source": [
    "model.fit(generate_batch(X_train, y_train, batch_size = batch_size),\n",
    "                    steps_per_epoch = train_samples//batch_size,\n",
    "                    epochs=epochs,\n",
    "                    validation_data = generate_batch(X_test, y_test, batch_size = batch_size),\n",
    "                    validation_steps = val_samples//batch_size)"
   ]
  },
  {
   "cell_type": "code",
   "execution_count": 45,
   "metadata": {
    "id": "bGoxmP2Oig5T"
   },
   "outputs": [],
   "source": [
    "#save the weights\n",
    "\n",
    "model.save_weights('etu_weights.h5')"
   ]
  },
  {
   "cell_type": "code",
   "execution_count": 46,
   "metadata": {},
   "outputs": [
    {
     "name": "stderr",
     "output_type": "stream",
     "text": [
      "C:\\Users\\Saleem Khan\\AppData\\Roaming\\Python\\Python310\\site-packages\\keras\\src\\engine\\training.py:3103: UserWarning: You are saving your model as an HDF5 file via `model.save()`. This file format is considered legacy. We recommend using instead the native Keras format, e.g. `model.save('my_model.keras')`.\n",
      "  saving_api.save_model(\n"
     ]
    }
   ],
   "source": [
    "model.save('translation_model.h5')"
   ]
  },
  {
   "cell_type": "code",
   "execution_count": 27,
   "metadata": {
    "id": "149l-Dqmiqea"
   },
   "outputs": [],
   "source": [
    "#Load the weights\n",
    "\n",
    "load_weights = Model('etu_weights.h5')"
   ]
  },
  {
   "cell_type": "code",
   "execution_count": 28,
   "metadata": {
    "id": "d7g55h0Yiqbj"
   },
   "outputs": [],
   "source": [
    "#Inference Setup\n",
    "\n",
    "# Encode the input sequence to get the \"thought vectors\"\n",
    "encoder_model = Model(encoder_inputs, encoder_states)\n",
    "\n",
    "# Decoder setup\n",
    "# Below tensors will hold the states of the previous time step\n",
    "decoder_state_input_h = Input(shape=(latent_dim,))\n",
    "decoder_state_input_c = Input(shape=(latent_dim,))\n",
    "decoder_states_inputs = [decoder_state_input_h, decoder_state_input_c]\n",
    "\n",
    "dec_emb2= dec_emb_layer(decoder_inputs) # Get the embeddings of the decoder sequence\n",
    " \n",
    "# To predict the next word in the sequence, set the initial states to the states from the previous time step\n",
    "decoder_outputs2, state_h2, state_c2 = decoder_lstm(dec_emb2, initial_state=decoder_states_inputs)\n",
    "decoder_states2 = [state_h2, state_c2]\n",
    "decoder_outputs2 = decoder_dense(decoder_outputs2) # A dense softmax layer to generate prob dist. over the target vocabulary\n",
    "\n",
    "# Final decoder model\n",
    "decoder_model = Model(\n",
    "    [decoder_inputs] + decoder_states_inputs,\n",
    "    [decoder_outputs2] + decoder_states2)\n"
   ]
  },
  {
   "cell_type": "code",
   "execution_count": 29,
   "metadata": {
    "id": "d4939gUQiqYz"
   },
   "outputs": [],
   "source": [
    "#Decode sample sequeces\n",
    "\n",
    "def decode_sequence(input_seq):\n",
    "    # Encode the input as state vectors.\n",
    "    states_value = encoder_model.predict(input_seq)\n",
    "    # Generate empty target sequence of length 1.\n",
    "    target_seq = np.zeros((1,1))\n",
    "    # Populate the first character of target sequence with the start character.\n",
    "    target_seq[0, 0] = target_token_index['START_']\n",
    "\n",
    "    # Sampling loop for a batch of sequences\n",
    "    # (to simplify, here we assume a batch of size 1).\n",
    "    stop_condition = False\n",
    "    decoded_sentence = ''\n",
    "    while not stop_condition:\n",
    "        output_tokens, h, c = decoder_model.predict([target_seq] + states_value)\n",
    "\n",
    "        # Sample a token\n",
    "        sampled_token_index = np.argmax(output_tokens[0, -1, :])\n",
    "        sampled_char = reverse_target_char_index[sampled_token_index]\n",
    "        decoded_sentence += ' '+sampled_char\n",
    "\n",
    "        # Exit condition: either hit max length\n",
    "        # or find stop character.\n",
    "        if (sampled_char == '_END' or\n",
    "           len(decoded_sentence) > 50):\n",
    "            stop_condition = True\n",
    "\n",
    "        # Update the target sequence (of length 1).\n",
    "        target_seq = np.zeros((1,1))\n",
    "        target_seq[0, 0] = sampled_token_index\n",
    "\n",
    "        # Update states\n",
    "        states_value = [h, c]\n",
    "\n",
    "    return decoded_sentence\n",
    "\n"
   ]
  },
  {
   "cell_type": "markdown",
   "metadata": {
    "id": "-_iTpwhGjEhK"
   },
   "source": [
    "**Evaluation on Train Dataset**"
   ]
  },
  {
   "cell_type": "code",
   "execution_count": 30,
   "metadata": {
    "id": "BoiZ8xxGiqNL"
   },
   "outputs": [],
   "source": [
    "train_gen = generate_batch(X_train, y_train, batch_size = 1)\n",
    "k=-1"
   ]
  },
  {
   "cell_type": "code",
   "execution_count": 31,
   "metadata": {
    "colab": {
     "base_uri": "https://localhost:8080/"
    },
    "id": "kK9d0Uv4jJSK",
    "outputId": "7ba164c8-38d3-426e-87ba-11dd2890a2e1"
   },
   "outputs": [
    {
     "name": "stdout",
     "output_type": "stream",
     "text": [
      "1/1 [==============================] - 1s 955ms/step\n",
      "1/1 [==============================] - 1s 910ms/step\n",
      "1/1 [==============================] - 0s 24ms/step\n",
      "1/1 [==============================] - 0s 24ms/step\n",
      "Input English sentence: no i feel worse\n",
      "Actual Brahui Translation:  آخہ باز ناجوڑ اٹ \n",
      "Predicted Brahui Translation:  کنے نا _END\n"
     ]
    }
   ],
   "source": [
    "k+=1\n",
    "(input_seq, actual_output), _ = next(train_gen)\n",
    "decoded_sentence = decode_sequence(input_seq)\n",
    "print('Input English sentence:', X_train[k:k+1].values[0])\n",
    "print('Actual Brahui Translation:', y_train[k:k+1].values[0][6:-4])\n",
    "print('Predicted Brahui Translation:', decoded_sentence[:])"
   ]
  },
  {
   "cell_type": "code",
   "execution_count": 32,
   "metadata": {
    "colab": {
     "base_uri": "https://localhost:8080/"
    },
    "id": "YG4XqkEajVNP",
    "outputId": "bfb9e973-5831-4db1-9b90-cd0750fc8e20"
   },
   "outputs": [
    {
     "name": "stdout",
     "output_type": "stream",
     "text": [
      "1/1 [==============================] - 0s 32ms/step\n",
      "1/1 [==============================] - 0s 18ms/step\n",
      "1/1 [==============================] - 0s 24ms/step\n",
      "Input English sentence: child birth\n",
      "Actual Brahui Translation:  چھنا خننگ \n",
      "Predicted Brahui Translation:  بے _END\n"
     ]
    }
   ],
   "source": [
    "k+=1\n",
    "(input_seq, actual_output), _ = next(train_gen)\n",
    "decoded_sentence = decode_sequence(input_seq)\n",
    "print('Input English sentence:', X_train[k:k+1].values[0])\n",
    "print('Actual Brahui Translation:', y_train[k:k+1].values[0][6:-4])\n",
    "print('Predicted Brahui Translation:', decoded_sentence[:])"
   ]
  },
  {
   "cell_type": "code",
   "execution_count": 33,
   "metadata": {
    "colab": {
     "base_uri": "https://localhost:8080/"
    },
    "id": "YqWe40StjVKB",
    "outputId": "007d3550-cfe2-4181-d338-4e378f9753b0"
   },
   "outputs": [
    {
     "name": "stdout",
     "output_type": "stream",
     "text": [
      "1/1 [==============================] - 0s 24ms/step\n",
      "1/1 [==============================] - 0s 24ms/step\n",
      "1/1 [==============================] - 0s 16ms/step\n",
      "1/1 [==============================] - 0s 29ms/step\n",
      "Input English sentence: may i go out\n",
      "Actual English Translation:  پینشن ہننگ کیوہ؟ \n",
      "Predicted Brahui Translation:  کنے نا \n"
     ]
    }
   ],
   "source": [
    "k+=1\n",
    "(input_seq, actual_output), _ = next(train_gen)\n",
    "decoded_sentence = decode_sequence(input_seq)\n",
    "print('Input English sentence:', X_train[k:k+1].values[0])\n",
    "print('Actual English Translation:', y_train[k:k+1].values[0][6:-4])\n",
    "print('Predicted Brahui Translation:', decoded_sentence[:-4])"
   ]
  },
  {
   "cell_type": "markdown",
   "metadata": {
    "id": "_QnsdBKjjmpH"
   },
   "source": [
    "**Evaluation on Validation Dataset**"
   ]
  },
  {
   "cell_type": "code",
   "execution_count": 34,
   "metadata": {
    "id": "ByfeI2RajVHB"
   },
   "outputs": [],
   "source": [
    "val_gen = generate_batch(X_test, y_test, batch_size = 1)\n",
    "k=-1"
   ]
  },
  {
   "cell_type": "code",
   "execution_count": 35,
   "metadata": {
    "colab": {
     "base_uri": "https://localhost:8080/"
    },
    "id": "maXNVej9jVBp",
    "outputId": "58ae7b81-1299-4c5e-cd13-bf88d4334742"
   },
   "outputs": [
    {
     "name": "stdout",
     "output_type": "stream",
     "text": [
      "1/1 [==============================] - 0s 26ms/step\n",
      "1/1 [==============================] - 0s 17ms/step\n",
      "1/1 [==============================] - 0s 24ms/step\n",
      "Input English sentence: snatch\n",
      "Actual Brahui Translation:  پلنگ \n",
      "Predicted Brahui Translation:  بے \n"
     ]
    }
   ],
   "source": [
    "k+=1\n",
    "(input_seq, actual_output), _ = next(val_gen)\n",
    "decoded_sentence = decode_sequence(input_seq)\n",
    "print('Input English sentence:', X_test[k:k+1].values[0])\n",
    "print('Actual Brahui Translation:', y_test[k:k+1].values[0][6:-4])\n",
    "print('Predicted Brahui Translation:', decoded_sentence[:-4])"
   ]
  },
  {
   "cell_type": "code",
   "execution_count": 36,
   "metadata": {
    "colab": {
     "base_uri": "https://localhost:8080/"
    },
    "id": "vYRN0nMhjvD3",
    "outputId": "a9b95f4a-c2e2-4138-8e89-6764e4a70909"
   },
   "outputs": [
    {
     "name": "stdout",
     "output_type": "stream",
     "text": [
      "1/1 [==============================] - 0s 32ms/step\n",
      "1/1 [==============================] - 0s 16ms/step\n",
      "1/1 [==============================] - 0s 28ms/step\n",
      "Input English sentence: must i wait\n",
      "Actual Brahui Translation:  کنے اڈ کروئ تمئک \n",
      "Predicted Brahui Translation:  کنے \n"
     ]
    }
   ],
   "source": [
    "k+=1\n",
    "(input_seq, actual_output), _ = next(val_gen)\n",
    "decoded_sentence = decode_sequence(input_seq)\n",
    "print('Input English sentence:', X_test[k:k+1].values[0])\n",
    "print('Actual Brahui Translation:', y_test[k:k+1].values[0][6:-4])\n",
    "print('Predicted Brahui Translation:', decoded_sentence[:-4])"
   ]
  },
  {
   "cell_type": "code",
   "execution_count": 37,
   "metadata": {
    "colab": {
     "base_uri": "https://localhost:8080/"
    },
    "id": "WFTGMBMxjyfV",
    "outputId": "dcad99f9-1d67-4663-b171-644b4acbb155"
   },
   "outputs": [
    {
     "name": "stdout",
     "output_type": "stream",
     "text": [
      "1/1 [==============================] - 0s 26ms/step\n",
      "1/1 [==============================] - 0s 24ms/step\n",
      "1/1 [==============================] - 0s 25ms/step\n",
      "Input English sentence: cucumber\n",
      "Actual Brahui Translation:  بادرینگ \n",
      "Predicted Brahui Translation:  بے \n"
     ]
    }
   ],
   "source": [
    "k+=1\n",
    "(input_seq, actual_output), _ = next(val_gen)\n",
    "decoded_sentence = decode_sequence(input_seq)\n",
    "print('Input English sentence:', X_test[k:k+1].values[0])\n",
    "print('Actual Brahui Translation:', y_test[k:k+1].values[0][6:-4])\n",
    "print('Predicted Brahui Translation:', decoded_sentence[:-4])"
   ]
  },
  {
   "cell_type": "code",
   "execution_count": 38,
   "metadata": {
    "id": "Bb_XlzxOMMVY"
   },
   "outputs": [],
   "source": [
    "from nltk.translate.bleu_score import sentence_bleu"
   ]
  },
  {
   "cell_type": "code",
   "execution_count": 39,
   "metadata": {
    "colab": {
     "base_uri": "https://localhost:8080/"
    },
    "id": "qzccltzcNIuu",
    "outputId": "4f6ea6b4-a1ec-43a4-a061-43ede2d6f217"
   },
   "outputs": [
    {
     "name": "stdout",
     "output_type": "stream",
     "text": [
      "[['بادرینگ']]\n"
     ]
    }
   ],
   "source": [
    "reference = [\n",
    "    y_test[k:k+1].values[0][6:-4].split()\n",
    "]\n",
    "print(reference)"
   ]
  },
  {
   "cell_type": "code",
   "execution_count": 40,
   "metadata": {
    "colab": {
     "base_uri": "https://localhost:8080/"
    },
    "id": "UmcRvYq1MN8X",
    "outputId": "737f3dff-2866-4172-e260-72ba02974dae"
   },
   "outputs": [
    {
     "name": "stdout",
     "output_type": "stream",
     "text": [
      "BLEU score -> 0\n"
     ]
    }
   ],
   "source": [
    "candidate = decoded_sentence[:-4].split()\n",
    "print('BLEU score -> {}'.format(sentence_bleu(reference, candidate)))"
   ]
  },
  {
   "cell_type": "code",
   "execution_count": null,
   "metadata": {},
   "outputs": [],
   "source": []
  }
 ],
 "metadata": {
  "accelerator": "GPU",
  "colab": {
   "name": "Machine Translation  Word-level model (English to Urdu).ipynb",
   "provenance": []
  },
  "gpuClass": "standard",
  "kernelspec": {
   "display_name": "Python 3 (ipykernel)",
   "language": "python",
   "name": "python3"
  },
  "language_info": {
   "codemirror_mode": {
    "name": "ipython",
    "version": 3
   },
   "file_extension": ".py",
   "mimetype": "text/x-python",
   "name": "python",
   "nbconvert_exporter": "python",
   "pygments_lexer": "ipython3",
   "version": "3.10.9"
  }
 },
 "nbformat": 4,
 "nbformat_minor": 1
}
